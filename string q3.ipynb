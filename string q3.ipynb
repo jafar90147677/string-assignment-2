{
 "cells": [
  {
   "cell_type": "code",
   "execution_count": 1,
   "id": "fc48e22a-a6d5-41d2-ac42-b2e07f4dd13d",
   "metadata": {},
   "outputs": [],
   "source": [
    "a='Welcome to python foundation course'\n"
   ]
  },
  {
   "cell_type": "code",
   "execution_count": 2,
   "id": "b2e75965-ec6c-4f1d-9186-c82a56d8796d",
   "metadata": {},
   "outputs": [
    {
     "data": {
      "text/plain": [
       "0"
      ]
     },
     "execution_count": 2,
     "metadata": {},
     "output_type": "execute_result"
    }
   ],
   "source": [
    "a.find(a)"
   ]
  },
  {
   "cell_type": "code",
   "execution_count": 4,
   "id": "aaf0c0a8-8bf4-4bc8-a8a3-399f3602d0fa",
   "metadata": {},
   "outputs": [
    {
     "data": {
      "text/plain": [
       "-1"
      ]
     },
     "execution_count": 4,
     "metadata": {},
     "output_type": "execute_result"
    }
   ],
   "source": [
    "a.find('w')"
   ]
  },
  {
   "cell_type": "code",
   "execution_count": 5,
   "id": "9df82788-15cb-41bb-bccc-f99df9c0976b",
   "metadata": {},
   "outputs": [
    {
     "data": {
      "text/plain": [
       "1"
      ]
     },
     "execution_count": 5,
     "metadata": {},
     "output_type": "execute_result"
    }
   ],
   "source": [
    "a.count(a)"
   ]
  },
  {
   "cell_type": "code",
   "execution_count": 11,
   "id": "c08935c8-c023-49cb-879d-24277325a154",
   "metadata": {},
   "outputs": [
    {
     "ename": "NameError",
     "evalue": "name 'count' is not defined",
     "output_type": "error",
     "traceback": [
      "\u001b[0;31m---------------------------------------------------------------------------\u001b[0m",
      "\u001b[0;31mNameError\u001b[0m                                 Traceback (most recent call last)",
      "Cell \u001b[0;32mIn[11], line 1\u001b[0m\n\u001b[0;32m----> 1\u001b[0m \u001b[43mcount\u001b[49m(a)\n",
      "\u001b[0;31mNameError\u001b[0m: name 'count' is not defined"
     ]
    }
   ],
   "source": [
    "a.count(a)"
   ]
  },
  {
   "cell_type": "code",
   "execution_count": 9,
   "id": "2f9aff34-d14c-4d3e-adad-0274ac73c2c4",
   "metadata": {},
   "outputs": [
    {
     "data": {
      "text/plain": [
       "1"
      ]
     },
     "execution_count": 9,
     "metadata": {},
     "output_type": "execute_result"
    }
   ],
   "source": [
    "len('a')"
   ]
  },
  {
   "cell_type": "code",
   "execution_count": 15,
   "id": "5d362818-f581-4fb7-9e69-b19dffa6093a",
   "metadata": {},
   "outputs": [
    {
     "ename": "NameError",
     "evalue": "name 'concatenation' is not defined",
     "output_type": "error",
     "traceback": [
      "\u001b[0;31m---------------------------------------------------------------------------\u001b[0m",
      "\u001b[0;31mNameError\u001b[0m                                 Traceback (most recent call last)",
      "Cell \u001b[0;32mIn[15], line 1\u001b[0m\n\u001b[0;32m----> 1\u001b[0m \u001b[43mconcatenation\u001b[49m()\n",
      "\u001b[0;31mNameError\u001b[0m: name 'concatenation' is not defined"
     ]
    }
   ],
   "source": [
    "concatenation()"
   ]
  },
  {
   "cell_type": "code",
   "execution_count": null,
   "id": "638bdafd-cba3-4738-bb82-e812272cfb86",
   "metadata": {},
   "outputs": [],
   "source": []
  }
 ],
 "metadata": {
  "kernelspec": {
   "display_name": "Python 3 (ipykernel)",
   "language": "python",
   "name": "python3"
  },
  "language_info": {
   "codemirror_mode": {
    "name": "ipython",
    "version": 3
   },
   "file_extension": ".py",
   "mimetype": "text/x-python",
   "name": "python",
   "nbconvert_exporter": "python",
   "pygments_lexer": "ipython3",
   "version": "3.10.8"
  }
 },
 "nbformat": 4,
 "nbformat_minor": 5
}
